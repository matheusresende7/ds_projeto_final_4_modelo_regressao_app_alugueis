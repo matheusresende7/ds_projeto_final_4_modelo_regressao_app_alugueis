{
 "cells": [
  {
   "cell_type": "markdown",
   "metadata": {},
   "source": [
    "# 02. Data Sourcing"
   ]
  },
  {
   "cell_type": "markdown",
   "metadata": {},
   "source": [
    "### Bancos de Dados\n",
    "Nesse projeto, não houve obtenção de dados através de Bancos de Dados."
   ]
  },
  {
   "cell_type": "markdown",
   "metadata": {},
   "source": [
    "### APIs\n",
    "Nesse projeto, não houve obtenção de dados através de APIs."
   ]
  },
  {
   "cell_type": "markdown",
   "metadata": {},
   "source": [
    "### Web Scraping\n",
    "Nesse projeto, não houve obtenção de dados através de Web Scraping."
   ]
  },
  {
   "cell_type": "markdown",
   "metadata": {},
   "source": [
    "### Outras Fontes\n",
    "Nesse projeto, os arquivos com os dados a serem utilizados são bases em formato .csv. \n",
    "\n",
    "Esses arquivos foram fornecidos pela equipe de Dados e estão na pasta: \"data/\"."
   ]
  },
  {
   "cell_type": "markdown",
   "metadata": {},
   "source": [
    "### Importando as bibliotecas"
   ]
  },
  {
   "cell_type": "code",
   "execution_count": 1,
   "metadata": {},
   "outputs": [],
   "source": [
    "import sys\n",
    "sys.path.append('..')\n",
    "import pandas as pd\n",
    "import os\n",
    "import functions.fn_stats as fn_stats\n",
    "import params.consts as consts"
   ]
  },
  {
   "cell_type": "markdown",
   "metadata": {},
   "source": [
    "### Criando o dataset geral a partir da concatenação dos datasets de cada mês"
   ]
  },
  {
   "cell_type": "code",
   "execution_count": 2,
   "metadata": {},
   "outputs": [],
   "source": [
    "dataframes = [] # Criando uma lista vazia para armazenar todos os dataframes\n",
    "\n",
    "meses = {'jan': 1, 'fev': 2, 'mar': 3, 'abr': 4, 'mai': 5, 'jun': 6, 'jul': 7, 'ago': 8, 'set': 9, 'out': 10, 'nov': 11, 'dez': 12}\n",
    "\n",
    "# Iterar sobre todos os arquivos na pasta 'data'\n",
    "for arquivo in os.listdir(consts.DATA_FOLDER): # Criando uma estrutura de repetição para ler os arquivos csv, criar um df e adicioná-los na lista\n",
    "\n",
    "    if arquivo.endswith('.csv'): # Selecionando somente os arquivos csv\n",
    "        \n",
    "        nome_mes = arquivo[:3] # Extraindo as 3 primeiras letras do nome do arquivo \n",
    "        mes = meses[nome_mes] # Definindo o mês de acordo com as suas 3 primeiras letras e o dicionário definido acima\n",
    "\n",
    "        ano = arquivo[-8:] # Extraindo as 8 últimas letras do nome do arquivo \n",
    "        ano = int(ano.replace('.csv', '')) # Definindo o ano de acordo com as suas 8 últimas letras e removendo o final com .csv\n",
    "        \n",
    "        arquivo_nome = os.path.join(consts.DATA_FOLDER, arquivo) # Definindo o nome do arquivo\n",
    "        \n",
    "        df = pd.read_csv(arquivo_nome, low_memory=False) # Criando um dataframe com o arquivo (low_memory é para não dar avisos de tipos diferentes de dados)\n",
    "\n",
    "        df['ano'] = ano # Criando uma coluna com o ano que recebe o valor extraído de ano\n",
    "        df['mes'] = mes # Criando uma coluna com o mês que recebe o valor extraído de mês\n",
    "\n",
    "        dataframes.append(df) # Adicionando o dataframe criado à lista de dataframes\n",
    "\n",
    "combined_df = pd.concat(dataframes, ignore_index=True) # Concatenando todos os dataframes da lista em um único dataframe\n",
    "\n",
    "combined_df.to_csv(consts.DATASET_RAW, index=False) # Salvando o dataset em um arquivo csv para ser usado posteriormente"
   ]
  },
  {
   "cell_type": "markdown",
   "metadata": {},
   "source": [
    "### Verificando o resultado da concatenação"
   ]
  },
  {
   "cell_type": "code",
   "execution_count": 3,
   "metadata": {},
   "outputs": [
    {
     "data": {
      "text/plain": [
       "(902210, 108)"
      ]
     },
     "execution_count": 3,
     "metadata": {},
     "output_type": "execute_result"
    }
   ],
   "source": [
    "combined_df.shape # Verificando o tamanho do dataset"
   ]
  },
  {
   "cell_type": "code",
   "execution_count": 4,
   "metadata": {},
   "outputs": [
    {
     "data": {
      "text/html": [
       "<div>\n",
       "<style scoped>\n",
       "    .dataframe tbody tr th:only-of-type {\n",
       "        vertical-align: middle;\n",
       "    }\n",
       "\n",
       "    .dataframe tbody tr th {\n",
       "        vertical-align: top;\n",
       "    }\n",
       "\n",
       "    .dataframe thead th {\n",
       "        text-align: right;\n",
       "    }\n",
       "</style>\n",
       "<table border=\"1\" class=\"dataframe\">\n",
       "  <thead>\n",
       "    <tr style=\"text-align: right;\">\n",
       "      <th></th>\n",
       "      <th>id</th>\n",
       "      <th>listing_url</th>\n",
       "      <th>scrape_id</th>\n",
       "      <th>last_scraped</th>\n",
       "      <th>name</th>\n",
       "      <th>summary</th>\n",
       "      <th>space</th>\n",
       "      <th>description</th>\n",
       "      <th>experiences_offered</th>\n",
       "      <th>neighborhood_overview</th>\n",
       "      <th>...</th>\n",
       "      <th>minimum_minimum_nights</th>\n",
       "      <th>maximum_minimum_nights</th>\n",
       "      <th>minimum_maximum_nights</th>\n",
       "      <th>maximum_maximum_nights</th>\n",
       "      <th>minimum_nights_avg_ntm</th>\n",
       "      <th>maximum_nights_avg_ntm</th>\n",
       "      <th>number_of_reviews_ltm</th>\n",
       "      <th>calculated_host_listings_count_entire_homes</th>\n",
       "      <th>calculated_host_listings_count_private_rooms</th>\n",
       "      <th>calculated_host_listings_count_shared_rooms</th>\n",
       "    </tr>\n",
       "  </thead>\n",
       "  <tbody>\n",
       "    <tr>\n",
       "      <th>0</th>\n",
       "      <td>14063</td>\n",
       "      <td>https://www.airbnb.com/rooms/14063</td>\n",
       "      <td>20180414160018</td>\n",
       "      <td>2018-04-14</td>\n",
       "      <td>Living in a Postcard</td>\n",
       "      <td>Besides the most iconic's view, our apartment ...</td>\n",
       "      <td>NaN</td>\n",
       "      <td>Besides the most iconic's view, our apartment ...</td>\n",
       "      <td>none</td>\n",
       "      <td>Best and favorite neighborhood of Rio. Perfect...</td>\n",
       "      <td>...</td>\n",
       "      <td>NaN</td>\n",
       "      <td>NaN</td>\n",
       "      <td>NaN</td>\n",
       "      <td>NaN</td>\n",
       "      <td>NaN</td>\n",
       "      <td>NaN</td>\n",
       "      <td>NaN</td>\n",
       "      <td>NaN</td>\n",
       "      <td>NaN</td>\n",
       "      <td>NaN</td>\n",
       "    </tr>\n",
       "    <tr>\n",
       "      <th>1</th>\n",
       "      <td>17878</td>\n",
       "      <td>https://www.airbnb.com/rooms/17878</td>\n",
       "      <td>20180414160018</td>\n",
       "      <td>2018-04-14</td>\n",
       "      <td>Very Nice 2Br - Copacabana - WiFi</td>\n",
       "      <td>Please note that special rates apply for New Y...</td>\n",
       "      <td>- large balcony which looks out on pedestrian ...</td>\n",
       "      <td>Please note that special rates apply for New Y...</td>\n",
       "      <td>none</td>\n",
       "      <td>This is the best spot in Rio. Everything happe...</td>\n",
       "      <td>...</td>\n",
       "      <td>NaN</td>\n",
       "      <td>NaN</td>\n",
       "      <td>NaN</td>\n",
       "      <td>NaN</td>\n",
       "      <td>NaN</td>\n",
       "      <td>NaN</td>\n",
       "      <td>NaN</td>\n",
       "      <td>NaN</td>\n",
       "      <td>NaN</td>\n",
       "      <td>NaN</td>\n",
       "    </tr>\n",
       "    <tr>\n",
       "      <th>2</th>\n",
       "      <td>24480</td>\n",
       "      <td>https://www.airbnb.com/rooms/24480</td>\n",
       "      <td>20180414160018</td>\n",
       "      <td>2018-04-14</td>\n",
       "      <td>Nice and cozy near Ipanema Beach</td>\n",
       "      <td>My studio is located in the best  of Ipanema. ...</td>\n",
       "      <td>The studio is located at Vinicius de Moraes St...</td>\n",
       "      <td>My studio is located in the best  of Ipanema. ...</td>\n",
       "      <td>none</td>\n",
       "      <td>The beach, the lagoon, Ipanema is a great loca...</td>\n",
       "      <td>...</td>\n",
       "      <td>NaN</td>\n",
       "      <td>NaN</td>\n",
       "      <td>NaN</td>\n",
       "      <td>NaN</td>\n",
       "      <td>NaN</td>\n",
       "      <td>NaN</td>\n",
       "      <td>NaN</td>\n",
       "      <td>NaN</td>\n",
       "      <td>NaN</td>\n",
       "      <td>NaN</td>\n",
       "    </tr>\n",
       "  </tbody>\n",
       "</table>\n",
       "<p>3 rows × 108 columns</p>\n",
       "</div>"
      ],
      "text/plain": [
       "      id                         listing_url       scrape_id last_scraped  \\\n",
       "0  14063  https://www.airbnb.com/rooms/14063  20180414160018   2018-04-14   \n",
       "1  17878  https://www.airbnb.com/rooms/17878  20180414160018   2018-04-14   \n",
       "2  24480  https://www.airbnb.com/rooms/24480  20180414160018   2018-04-14   \n",
       "\n",
       "                                name  \\\n",
       "0               Living in a Postcard   \n",
       "1  Very Nice 2Br - Copacabana - WiFi   \n",
       "2   Nice and cozy near Ipanema Beach   \n",
       "\n",
       "                                             summary  \\\n",
       "0  Besides the most iconic's view, our apartment ...   \n",
       "1  Please note that special rates apply for New Y...   \n",
       "2  My studio is located in the best  of Ipanema. ...   \n",
       "\n",
       "                                               space  \\\n",
       "0                                                NaN   \n",
       "1  - large balcony which looks out on pedestrian ...   \n",
       "2  The studio is located at Vinicius de Moraes St...   \n",
       "\n",
       "                                         description experiences_offered  \\\n",
       "0  Besides the most iconic's view, our apartment ...                none   \n",
       "1  Please note that special rates apply for New Y...                none   \n",
       "2  My studio is located in the best  of Ipanema. ...                none   \n",
       "\n",
       "                               neighborhood_overview  ...  \\\n",
       "0  Best and favorite neighborhood of Rio. Perfect...  ...   \n",
       "1  This is the best spot in Rio. Everything happe...  ...   \n",
       "2  The beach, the lagoon, Ipanema is a great loca...  ...   \n",
       "\n",
       "  minimum_minimum_nights maximum_minimum_nights minimum_maximum_nights  \\\n",
       "0                    NaN                    NaN                    NaN   \n",
       "1                    NaN                    NaN                    NaN   \n",
       "2                    NaN                    NaN                    NaN   \n",
       "\n",
       "  maximum_maximum_nights minimum_nights_avg_ntm  maximum_nights_avg_ntm  \\\n",
       "0                    NaN                    NaN                     NaN   \n",
       "1                    NaN                    NaN                     NaN   \n",
       "2                    NaN                    NaN                     NaN   \n",
       "\n",
       "   number_of_reviews_ltm calculated_host_listings_count_entire_homes  \\\n",
       "0                    NaN                                         NaN   \n",
       "1                    NaN                                         NaN   \n",
       "2                    NaN                                         NaN   \n",
       "\n",
       "   calculated_host_listings_count_private_rooms  \\\n",
       "0                                           NaN   \n",
       "1                                           NaN   \n",
       "2                                           NaN   \n",
       "\n",
       "   calculated_host_listings_count_shared_rooms  \n",
       "0                                          NaN  \n",
       "1                                          NaN  \n",
       "2                                          NaN  \n",
       "\n",
       "[3 rows x 108 columns]"
      ]
     },
     "execution_count": 4,
     "metadata": {},
     "output_type": "execute_result"
    }
   ],
   "source": [
    "combined_df.head(3) # Exibindo as 3 primeiras linhas do dataset"
   ]
  }
 ],
 "metadata": {
  "kernelspec": {
   "display_name": "Python 3",
   "language": "python",
   "name": "python3"
  },
  "language_info": {
   "codemirror_mode": {
    "name": "ipython",
    "version": 3
   },
   "file_extension": ".py",
   "mimetype": "text/x-python",
   "name": "python",
   "nbconvert_exporter": "python",
   "pygments_lexer": "ipython3",
   "version": "3.12.4"
  }
 },
 "nbformat": 4,
 "nbformat_minor": 2
}
