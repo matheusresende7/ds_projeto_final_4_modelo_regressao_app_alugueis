{
 "cells": [
  {
   "cell_type": "markdown",
   "metadata": {},
   "source": [
    "# Dicionário de datasets"
   ]
  },
  {
   "cell_type": "markdown",
   "metadata": {},
   "source": [
    "| Dataset    | Descrição                                                              |\n",
    "|------------|------------------------------------------------------------------------|\n",
    "| dummies    | Dataset criado para fazer o gráfico de correlações                     |\n",
    "| lean       | Dataset tratado, deixando somente as colunas importantes, sem informações redundantes |\n",
    "| preview    | Dataset inicial do projeto apenas com as 1000 primeiras linhas para análise rápida |\n",
    "| raw        | Dataset inicial do projeto                                             |\n",
    "| transformed| Dataset após receber os pré-processamentos                             |"
   ]
  }
 ],
 "metadata": {
  "language_info": {
   "name": "python"
  }
 },
 "nbformat": 4,
 "nbformat_minor": 2
}
